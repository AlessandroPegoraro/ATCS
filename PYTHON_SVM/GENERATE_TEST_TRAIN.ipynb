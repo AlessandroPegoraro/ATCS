{
  "nbformat": 4,
  "nbformat_minor": 0,
  "metadata": {
    "colab": {
      "name": "GENERATE_TEST_TRAIN.ipynb",
      "provenance": [],
      "collapsed_sections": []
    },
    "kernelspec": {
      "display_name": "Python 3",
      "name": "python3"
    },
    "language_info": {
      "name": "python"
    }
  },
  "cells": [
    {
      "cell_type": "code",
      "metadata": {
        "colab": {
          "base_uri": "https://localhost:8080/"
        },
        "id": "h04QJ_4kPKTr",
        "outputId": "8c2bf07d-78f3-49e8-8cf5-ea0177333c3b"
      },
      "source": [
        "!pip install pytreebank"
      ],
      "execution_count": 1,
      "outputs": [
        {
          "output_type": "stream",
          "name": "stdout",
          "text": [
            "Collecting pytreebank\n",
            "  Downloading pytreebank-0.2.7.tar.gz (34 kB)\n",
            "Building wheels for collected packages: pytreebank\n",
            "  Building wheel for pytreebank (setup.py) ... \u001b[?25l\u001b[?25hdone\n",
            "  Created wheel for pytreebank: filename=pytreebank-0.2.7-py3-none-any.whl size=37070 sha256=49ac4ca7de0974dbfdd97c3c6be913babe2de4ba69310bca0e23a4d8f448f0fa\n",
            "  Stored in directory: /root/.cache/pip/wheels/5b/84/1b/8fbd390149c4c56517bf3cb62bb25d3cf6f5cf575e66710ced\n",
            "Successfully built pytreebank\n",
            "Installing collected packages: pytreebank\n",
            "Successfully installed pytreebank-0.2.7\n"
          ]
        }
      ]
    },
    {
      "cell_type": "code",
      "metadata": {
        "colab": {
          "base_uri": "https://localhost:8080/"
        },
        "id": "SAlbeBjXIPud",
        "outputId": "bb2c08e1-aae0-4845-c3a7-5d5f69b975f1"
      },
      "source": [
        "!python -m spacy download en_core_web_md"
      ],
      "execution_count": null,
      "outputs": [
        {
          "output_type": "stream",
          "name": "stdout",
          "text": [
            "Collecting en_core_web_md==2.2.5\n",
            "  Downloading https://github.com/explosion/spacy-models/releases/download/en_core_web_md-2.2.5/en_core_web_md-2.2.5.tar.gz (96.4 MB)\n",
            "\u001b[K     |████████████████████████████████| 96.4 MB 1.2 MB/s \n",
            "\u001b[?25hRequirement already satisfied: spacy>=2.2.2 in /usr/local/lib/python3.7/dist-packages (from en_core_web_md==2.2.5) (2.2.4)\n",
            "Requirement already satisfied: setuptools in /usr/local/lib/python3.7/dist-packages (from spacy>=2.2.2->en_core_web_md==2.2.5) (57.4.0)\n",
            "Requirement already satisfied: tqdm<5.0.0,>=4.38.0 in /usr/local/lib/python3.7/dist-packages (from spacy>=2.2.2->en_core_web_md==2.2.5) (4.62.2)\n",
            "Requirement already satisfied: catalogue<1.1.0,>=0.0.7 in /usr/local/lib/python3.7/dist-packages (from spacy>=2.2.2->en_core_web_md==2.2.5) (1.0.0)\n",
            "Requirement already satisfied: plac<1.2.0,>=0.9.6 in /usr/local/lib/python3.7/dist-packages (from spacy>=2.2.2->en_core_web_md==2.2.5) (1.1.3)\n",
            "Requirement already satisfied: wasabi<1.1.0,>=0.4.0 in /usr/local/lib/python3.7/dist-packages (from spacy>=2.2.2->en_core_web_md==2.2.5) (0.8.2)\n",
            "Requirement already satisfied: cymem<2.1.0,>=2.0.2 in /usr/local/lib/python3.7/dist-packages (from spacy>=2.2.2->en_core_web_md==2.2.5) (2.0.5)\n",
            "Requirement already satisfied: requests<3.0.0,>=2.13.0 in /usr/local/lib/python3.7/dist-packages (from spacy>=2.2.2->en_core_web_md==2.2.5) (2.23.0)\n",
            "Requirement already satisfied: srsly<1.1.0,>=1.0.2 in /usr/local/lib/python3.7/dist-packages (from spacy>=2.2.2->en_core_web_md==2.2.5) (1.0.5)\n",
            "Requirement already satisfied: murmurhash<1.1.0,>=0.28.0 in /usr/local/lib/python3.7/dist-packages (from spacy>=2.2.2->en_core_web_md==2.2.5) (1.0.5)\n",
            "Requirement already satisfied: numpy>=1.15.0 in /usr/local/lib/python3.7/dist-packages (from spacy>=2.2.2->en_core_web_md==2.2.5) (1.19.5)\n",
            "Requirement already satisfied: blis<0.5.0,>=0.4.0 in /usr/local/lib/python3.7/dist-packages (from spacy>=2.2.2->en_core_web_md==2.2.5) (0.4.1)\n",
            "Requirement already satisfied: preshed<3.1.0,>=3.0.2 in /usr/local/lib/python3.7/dist-packages (from spacy>=2.2.2->en_core_web_md==2.2.5) (3.0.5)\n",
            "Requirement already satisfied: thinc==7.4.0 in /usr/local/lib/python3.7/dist-packages (from spacy>=2.2.2->en_core_web_md==2.2.5) (7.4.0)\n",
            "Requirement already satisfied: importlib-metadata>=0.20 in /usr/local/lib/python3.7/dist-packages (from catalogue<1.1.0,>=0.0.7->spacy>=2.2.2->en_core_web_md==2.2.5) (4.8.1)\n",
            "Requirement already satisfied: zipp>=0.5 in /usr/local/lib/python3.7/dist-packages (from importlib-metadata>=0.20->catalogue<1.1.0,>=0.0.7->spacy>=2.2.2->en_core_web_md==2.2.5) (3.5.0)\n",
            "Requirement already satisfied: typing-extensions>=3.6.4 in /usr/local/lib/python3.7/dist-packages (from importlib-metadata>=0.20->catalogue<1.1.0,>=0.0.7->spacy>=2.2.2->en_core_web_md==2.2.5) (3.7.4.3)\n",
            "Requirement already satisfied: idna<3,>=2.5 in /usr/local/lib/python3.7/dist-packages (from requests<3.0.0,>=2.13.0->spacy>=2.2.2->en_core_web_md==2.2.5) (2.10)\n",
            "Requirement already satisfied: chardet<4,>=3.0.2 in /usr/local/lib/python3.7/dist-packages (from requests<3.0.0,>=2.13.0->spacy>=2.2.2->en_core_web_md==2.2.5) (3.0.4)\n",
            "Requirement already satisfied: urllib3!=1.25.0,!=1.25.1,<1.26,>=1.21.1 in /usr/local/lib/python3.7/dist-packages (from requests<3.0.0,>=2.13.0->spacy>=2.2.2->en_core_web_md==2.2.5) (1.24.3)\n",
            "Requirement already satisfied: certifi>=2017.4.17 in /usr/local/lib/python3.7/dist-packages (from requests<3.0.0,>=2.13.0->spacy>=2.2.2->en_core_web_md==2.2.5) (2021.5.30)\n",
            "\u001b[38;5;2m✔ Download and installation successful\u001b[0m\n",
            "You can now load the model via spacy.load('en_core_web_md')\n"
          ]
        }
      ]
    },
    {
      "cell_type": "code",
      "metadata": {
        "id": "rk_6445BIQ1b"
      },
      "source": [
        "import spacy # Restart runtime if you get an error \"Ctrl + M + .\"\n",
        "nlp = spacy.load('en_core_web_md')"
      ],
      "execution_count": null,
      "outputs": []
    },
    {
      "cell_type": "code",
      "metadata": {
        "id": "A3-JPhsmPVb9"
      },
      "source": [
        "import pytreebank\n",
        "dataset = pytreebank.load_sst()\n",
        "\n",
        "import numpy as np\n",
        "from sklearn.svm import SVC\n",
        "from sklearn.metrics import confusion_matrix\n",
        "from sklearn.metrics import ConfusionMatrixDisplay\n",
        "from sklearn.metrics import accuracy_score\n",
        "from sklearn.feature_extraction.text import CountVectorizer, TfidfTransformer"
      ],
      "execution_count": 4,
      "outputs": []
    },
    {
      "cell_type": "code",
      "metadata": {
        "id": "WMgJP4fnAOOv"
      },
      "source": [
        "with open('/content/SST-2.train', 'w') as writefile:\n",
        "  for exo in dataset[\"train\"]:\n",
        "    if exo.label != 2:\n",
        "      x = \"-1\"\n",
        "      if exo.label > 2:\n",
        "        x = \"1\"\n",
        "      writefile.write(x)\n",
        "      writefile.write(\" |BT| \")\n",
        "      writefile.write(exo.__str__())\n",
        "      writefile.write(\" |ET| \")\n",
        "      writefile.write('\\n')"
      ],
      "execution_count": null,
      "outputs": []
    },
    {
      "cell_type": "code",
      "metadata": {
        "id": "YWXWJaRN_sqY"
      },
      "source": [
        "with open('/content/SST-2.test', 'w') as writefile:\n",
        "  for exo in dataset[\"test\"]:\n",
        "    if exo.label != 2:\n",
        "      x = \"-1\"\n",
        "      if exo.label > 2:\n",
        "        x = \"1\"\n",
        "      writefile.write(x)\n",
        "      writefile.write(\" |BT| \")\n",
        "      writefile.write(exo.__str__())\n",
        "      writefile.write(\" |ET| \")\n",
        "      writefile.write('\\n')"
      ],
      "execution_count": null,
      "outputs": []
    },
    {
      "cell_type": "code",
      "metadata": {
        "id": "cGM-MFoq4xJB"
      },
      "source": [
        "def replace_POS(text, pos):\n",
        "  i = 0\n",
        "  j = 0\n",
        "  new_text = \"\"\n",
        "  while i < len(text):\n",
        "    if text[i] != '(' and text[i] != ' ' and text[i] != ')' and text[i] != '0' and text[i] != '1' and text[i] != '2' and text[i] != '3' and text[i] != '4':\n",
        "      while text[i] != ')':\n",
        "        i = i+1\n",
        "      new_text += pos[j].pos_\n",
        "      new_text += text[i]\n",
        "      j = j+1\n",
        "    else:\n",
        "      new_text += text[i]\n",
        "    i = i+1\n",
        "  return new_text"
      ],
      "execution_count": null,
      "outputs": []
    },
    {
      "cell_type": "code",
      "metadata": {
        "id": "r6QvIAjIqsIW"
      },
      "source": [
        "with open('/content/SST-2-POS.train', 'w') as writefile:\n",
        "  for exo in dataset[\"train\"]:\n",
        "    if exo.label != 2:\n",
        "      x = \"-1\"\n",
        "      if exo.label > 2:\n",
        "        x = \"1\"\n",
        "      doc = nlp(exo.to_labeled_lines()[0][1])\n",
        "      writefile.write(x)\n",
        "      writefile.write(\" |BT| \")\n",
        "      writefile.write(replace_POS(exo.__str__(),doc))\n",
        "      writefile.write(\" |ET| \")\n",
        "      writefile.write('\\n')"
      ],
      "execution_count": null,
      "outputs": []
    },
    {
      "cell_type": "code",
      "metadata": {
        "id": "OZdvLKzv7clS"
      },
      "source": [
        "with open('/content/SST-2-POS.test', 'w') as writefile:\n",
        "  for exo in dataset[\"test\"]:\n",
        "    if exo.label != 2:\n",
        "      x = \"-1\"\n",
        "      if exo.label > 2:\n",
        "        x = \"1\"\n",
        "      doc = nlp(exo.to_labeled_lines()[0][1])\n",
        "      writefile.write(x)\n",
        "      writefile.write(\" |BT| \")\n",
        "      writefile.write(replace_POS(exo.__str__(),doc))\n",
        "      writefile.write(\" |ET| \")\n",
        "      writefile.write('\\n')"
      ],
      "execution_count": null,
      "outputs": []
    },
    {
      "cell_type": "code",
      "metadata": {
        "id": "9OGghboVHDQj"
      },
      "source": [
        "def replace_EMPTY(text, word):\n",
        "  i = 0\n",
        "  new_text = \"\"\n",
        "  while i < len(text):\n",
        "    if text[i] != '(' and text[i] != ' ' and text[i] != ')' and text[i] != '0' and text[i] != '1' and text[i] != '2' and text[i] != '3' and text[i] != '4':\n",
        "      while text[i] != ')':\n",
        "        i = i+1\n",
        "      new_text += word\n",
        "      new_text += text[i]\n",
        "    else:\n",
        "      new_text += text[i]\n",
        "    i = i+1\n",
        "  return new_text"
      ],
      "execution_count": 2,
      "outputs": []
    },
    {
      "cell_type": "code",
      "metadata": {
        "id": "fZ4obdpJHKED"
      },
      "source": [
        "with open('/content/SST-2-EM.train', 'w') as writefile:\n",
        "  for exo in dataset[\"train\"]:\n",
        "    if exo.label != 2:\n",
        "      x = \"-1\"\n",
        "      if exo.label > 2:\n",
        "        x = \"1\"\n",
        "      writefile.write(x)\n",
        "      writefile.write(\" |BT| \")\n",
        "      writefile.write(replace_EMPTY(exo.__str__(), '#'))\n",
        "      writefile.write(\" |ET| \")\n",
        "      writefile.write('\\n')"
      ],
      "execution_count": 5,
      "outputs": []
    },
    {
      "cell_type": "code",
      "metadata": {
        "id": "15ptitWWHTr3"
      },
      "source": [
        "with open('/content/SST-2-EM.test', 'w') as writefile:\n",
        "  for exo in dataset[\"test\"]:\n",
        "    if exo.label != 2:\n",
        "      x = \"-1\"\n",
        "      if exo.label > 2:\n",
        "        x = \"1\"\n",
        "      writefile.write(x)\n",
        "      writefile.write(\" |BT| \")\n",
        "      writefile.write(replace_EMPTY(exo.__str__(), '#'))\n",
        "      writefile.write(\" |ET| \")\n",
        "      writefile.write('\\n')"
      ],
      "execution_count": 6,
      "outputs": []
    }
  ]
}